{
 "cells": [
  {
   "cell_type": "markdown",
   "metadata": {},
   "source": [
    "## Initialization"
   ]
  },
  {
   "cell_type": "code",
   "execution_count": 1,
   "metadata": {
    "collapsed": true
   },
   "outputs": [],
   "source": [
    "# TODO: GET THIS STUFF OUT OF HERE\n",
    "USER=\"gino@bustelos.com\"\n",
    "PW=\"GZNaqUP{fD6AhJHXcCJgt%bbK\"\n",
    "COMPETITION=\"dogs-vs-cats-redux-kernels-edition\"\n",
    "SHORT_NAME=\"dogsNcats\""
   ]
  },
  {
   "cell_type": "code",
   "execution_count": 2,
   "metadata": {
    "collapsed": false
   },
   "outputs": [
    {
     "data": {
      "text/plain": [
       "'data/dogsNcats/raw'"
      ]
     },
     "execution_count": 2,
     "metadata": {},
     "output_type": "execute_result"
    }
   ],
   "source": [
    "raw_data_path = \"data/{}/raw\".format(SHORT_NAME)\n",
    "raw_data_path"
   ]
  },
  {
   "cell_type": "code",
   "execution_count": 3,
   "metadata": {
    "collapsed": true
   },
   "outputs": [],
   "source": [
    "classes = ['dogs','cats']"
   ]
  },
  {
   "cell_type": "markdown",
   "metadata": {},
   "source": [
    "## Download Data from Kaggle"
   ]
  },
  {
   "cell_type": "markdown",
   "metadata": {},
   "source": [
    "http://wiki.fast.ai/index.php/Kaggle_CLI\n",
    "\n",
    "#### Install Kaggle CLI"
   ]
  },
  {
   "cell_type": "code",
   "execution_count": null,
   "metadata": {
    "collapsed": false
   },
   "outputs": [],
   "source": [
    "!pip install kaggle-cli"
   ]
  },
  {
   "cell_type": "markdown",
   "metadata": {},
   "source": [
    "#### Download the Dogs N Cats dataset"
   ]
  },
  {
   "cell_type": "code",
   "execution_count": null,
   "metadata": {
    "collapsed": false
   },
   "outputs": [],
   "source": [
    "!kg config -g -u '$USER' -c '$COMPETITION'\n",
    "!kg config -g"
   ]
  },
  {
   "cell_type": "code",
   "execution_count": null,
   "metadata": {
    "collapsed": false
   },
   "outputs": [],
   "source": [
    "!mkdir -p $raw_data_path\n",
    "!cd $raw_data_path; kg download -p '$PW'"
   ]
  },
  {
   "cell_type": "markdown",
   "metadata": {},
   "source": [
    "#### Unzip"
   ]
  },
  {
   "cell_type": "code",
   "execution_count": 9,
   "metadata": {
    "collapsed": false
   },
   "outputs": [],
   "source": [
    "!cd $raw_data_path; unzip -q test.zip"
   ]
  },
  {
   "cell_type": "code",
   "execution_count": 10,
   "metadata": {
    "collapsed": true
   },
   "outputs": [],
   "source": [
    "!cd $raw_data_path; unzip -q train.zip"
   ]
  },
  {
   "cell_type": "code",
   "execution_count": 3,
   "metadata": {
    "collapsed": false
   },
   "outputs": [
    {
     "name": "stdout",
     "output_type": "stream",
     "text": [
      "total 835580\r\n",
      "drwxrwxr-x 4 ubuntu ubuntu      4096 Apr 13 21:23 .\r\n",
      "drwxrwxr-x 4 ubuntu ubuntu      4096 Apr 14 17:18 ..\r\n",
      "-rw-rw-r-- 1 ubuntu ubuntu    113903 Apr 13 20:17 sample_submission.csv\r\n",
      "drwxr-xr-x 2 ubuntu ubuntu    299008 Sep 20  2013 test\r\n",
      "-rw-rw-r-- 1 ubuntu ubuntu 284478493 Apr 13 20:14 test.zip\r\n",
      "drwxr-xr-x 2 ubuntu ubuntu    802816 Sep 20  2013 train\r\n",
      "-rw-rw-r-- 1 ubuntu ubuntu 569918665 Apr 13 20:17 train.zip\r\n"
     ]
    }
   ],
   "source": [
    "!ls -al $raw_data_path"
   ]
  },
  {
   "cell_type": "markdown",
   "metadata": {},
   "source": [
    "## Separate data into cats and dogs\n",
    "The following cells are modifying the layout of the files on disk to fit what Keras wants... each class to be in its own directory"
   ]
  },
  {
   "cell_type": "code",
   "execution_count": 4,
   "metadata": {
    "collapsed": false
   },
   "outputs": [],
   "source": [
    "import os\n",
    "import pandas as pd\n",
    "import numpy as np"
   ]
  },
  {
   "cell_type": "code",
   "execution_count": 5,
   "metadata": {
    "collapsed": false
   },
   "outputs": [
    {
     "data": {
      "text/plain": [
       "'data/dogsNcats/clean'"
      ]
     },
     "execution_count": 5,
     "metadata": {},
     "output_type": "execute_result"
    }
   ],
   "source": [
    "clean_data_path = \"data/{}/clean\".format(SHORT_NAME)\n",
    "clean_data_path"
   ]
  },
  {
   "cell_type": "markdown",
   "metadata": {},
   "source": [
    "### Train Data"
   ]
  },
  {
   "cell_type": "code",
   "execution_count": 6,
   "metadata": {
    "collapsed": false
   },
   "outputs": [],
   "source": [
    "all_train = os.listdir(raw_data_path+'/train')"
   ]
  },
  {
   "cell_type": "code",
   "execution_count": 7,
   "metadata": {
    "collapsed": false
   },
   "outputs": [
    {
     "name": "stdout",
     "output_type": "stream",
     "text": [
      "There are 25000 training files\n"
     ]
    }
   ],
   "source": [
    "print(\"There are {} training files\".format(len(all_train)))"
   ]
  },
  {
   "cell_type": "code",
   "execution_count": 8,
   "metadata": {
    "collapsed": false
   },
   "outputs": [],
   "source": [
    "all_train_df = pd.DataFrame(data=all_train, columns=['name'])"
   ]
  },
  {
   "cell_type": "code",
   "execution_count": 9,
   "metadata": {
    "collapsed": false
   },
   "outputs": [
    {
     "data": {
      "text/html": [
       "<div>\n",
       "<table border=\"1\" class=\"dataframe\">\n",
       "  <thead>\n",
       "    <tr style=\"text-align: right;\">\n",
       "      <th></th>\n",
       "      <th>name</th>\n",
       "    </tr>\n",
       "  </thead>\n",
       "  <tbody>\n",
       "    <tr>\n",
       "      <th>0</th>\n",
       "      <td>dog.88.jpg</td>\n",
       "    </tr>\n",
       "    <tr>\n",
       "      <th>1</th>\n",
       "      <td>cat.3285.jpg</td>\n",
       "    </tr>\n",
       "    <tr>\n",
       "      <th>2</th>\n",
       "      <td>cat.12344.jpg</td>\n",
       "    </tr>\n",
       "    <tr>\n",
       "      <th>3</th>\n",
       "      <td>dog.2373.jpg</td>\n",
       "    </tr>\n",
       "    <tr>\n",
       "      <th>4</th>\n",
       "      <td>dog.8854.jpg</td>\n",
       "    </tr>\n",
       "  </tbody>\n",
       "</table>\n",
       "</div>"
      ],
      "text/plain": [
       "            name\n",
       "0     dog.88.jpg\n",
       "1   cat.3285.jpg\n",
       "2  cat.12344.jpg\n",
       "3   dog.2373.jpg\n",
       "4   dog.8854.jpg"
      ]
     },
     "execution_count": 9,
     "metadata": {},
     "output_type": "execute_result"
    }
   ],
   "source": [
    "all_train_df.head()"
   ]
  },
  {
   "cell_type": "code",
   "execution_count": 13,
   "metadata": {
    "collapsed": true
   },
   "outputs": [],
   "source": [
    "all_train_cats = all_train_df[all_train_df['name'].str.contains('cat')]\n",
    "all_train_dogs = all_train_df[all_train_df['name'].str.contains('dog')]"
   ]
  },
  {
   "cell_type": "code",
   "execution_count": 14,
   "metadata": {
    "collapsed": false
   },
   "outputs": [
    {
     "name": "stdout",
     "output_type": "stream",
     "text": [
      "There are 12500 cats training files\n",
      "There are 12500 dogs training files\n"
     ]
    }
   ],
   "source": [
    "print(\"There are {} cats training files\".format(len(all_train_cats)))\n",
    "print(\"There are {} dogs training files\".format(len(all_train_dogs)))"
   ]
  },
  {
   "cell_type": "markdown",
   "metadata": {},
   "source": [
    "### Need to split the train files into Validation and a Sample set\n",
    "Note that sample is a copy of part of the training, while the train and valid sets are exclusive"
   ]
  },
  {
   "cell_type": "code",
   "execution_count": 15,
   "metadata": {
    "collapsed": false
   },
   "outputs": [],
   "source": [
    "# split into 1000 validation and the rest train\n",
    "# using sample(frac=1) to shuffle the data in the dataframe\n",
    "valid_cats, train_cats = np.split(all_train_cats.sample(frac=1), [1000])\n",
    "valid_dogs, train_dogs = np.split(all_train_dogs.sample(frac=1), [1000])"
   ]
  },
  {
   "cell_type": "code",
   "execution_count": 16,
   "metadata": {
    "collapsed": false
   },
   "outputs": [],
   "source": [
    "# sample directory will have a similar train & valid directory but \n",
    "# using 100 records.\n",
    "sample_valid_cats, sample_train_cats = np.split(all_train_cats.sample(n=100), [20])\n",
    "sample_valid_dogs, sample_train_dogs = np.split(all_train_dogs.sample(n=100), [20])"
   ]
  },
  {
   "cell_type": "markdown",
   "metadata": {},
   "source": [
    "#### Directory Layout\n",
    "```\n",
    "train/\n",
    "  cats/\n",
    "  dogs/\n",
    "  \n",
    "valid/\n",
    "  cats/\n",
    "  dogs/\n",
    "  \n",
    "sample/\n",
    "  train/\n",
    "    cats/\n",
    "    dogs/\n",
    "  valid/\n",
    "    cats/\n",
    "    dogs/\n",
    "```"
   ]
  },
  {
   "cell_type": "code",
   "execution_count": 17,
   "metadata": {
    "collapsed": false
   },
   "outputs": [],
   "source": [
    "train_data_path = clean_data_path + '/train'\n",
    "valid_data_path = clean_data_path + '/valid'\n",
    "\n",
    "sample_train_data_path = clean_data_path + '/sample/train'\n",
    "sample_valid_data_path = clean_data_path + '/sample/valid'\n",
    "\n",
    "def mkdirs(root, dirs ):\n",
    "    for dir in dirs:\n",
    "        !mkdir -p $root/$dir\n"
   ]
  },
  {
   "cell_type": "code",
   "execution_count": 18,
   "metadata": {
    "collapsed": false
   },
   "outputs": [],
   "source": [
    "# Create the dogs and cats directories\n",
    "for root in [train_data_path,valid_data_path,sample_train_data_path,sample_valid_data_path]:\n",
    "    mkdirs(root, classes)"
   ]
  },
  {
   "cell_type": "markdown",
   "metadata": {},
   "source": [
    "#### copy files into correct locations"
   ]
  },
  {
   "cell_type": "code",
   "execution_count": 19,
   "metadata": {
    "collapsed": true
   },
   "outputs": [],
   "source": [
    "def copy_data(src_files, toDir):\n",
    "    for src_file in src_files:\n",
    "        !cp $src_file $toDir/."
   ]
  },
  {
   "cell_type": "code",
   "execution_count": 20,
   "metadata": {
    "collapsed": false
   },
   "outputs": [],
   "source": [
    "import functools\n",
    "\n",
    "train_path_builder = functools.partial(os.path.join, raw_data_path, 'train' )"
   ]
  },
  {
   "cell_type": "markdown",
   "metadata": {},
   "source": [
    "#### Training data"
   ]
  },
  {
   "cell_type": "code",
   "execution_count": 32,
   "metadata": {
    "collapsed": false
   },
   "outputs": [],
   "source": [
    "copy_data(list(train_cats['name'].apply(train_path_builder)), train_data_path+'/cats')\n",
    "copy_data(list(train_dogs['name'].apply(train_path_builder)), train_data_path+'/dogs')    "
   ]
  },
  {
   "cell_type": "code",
   "execution_count": 42,
   "metadata": {
    "collapsed": false
   },
   "outputs": [
    {
     "name": "stdout",
     "output_type": "stream",
     "text": [
      "11500\r\n"
     ]
    }
   ],
   "source": [
    "!ls -l $train_data_path/cats | grep cat | wc -l"
   ]
  },
  {
   "cell_type": "code",
   "execution_count": 43,
   "metadata": {
    "collapsed": false
   },
   "outputs": [
    {
     "name": "stdout",
     "output_type": "stream",
     "text": [
      "11500\r\n"
     ]
    }
   ],
   "source": [
    "!ls -l $train_data_path/dogs | grep dog | wc -l"
   ]
  },
  {
   "cell_type": "markdown",
   "metadata": {},
   "source": [
    "#### Validation data"
   ]
  },
  {
   "cell_type": "code",
   "execution_count": 48,
   "metadata": {
    "collapsed": false
   },
   "outputs": [],
   "source": [
    "copy_data(list(valid_cats['name'].apply(train_path_builder)), valid_data_path+'/cats')\n",
    "copy_data(list(valid_dogs['name'].apply(train_path_builder)), valid_data_path+'/dogs')    "
   ]
  },
  {
   "cell_type": "code",
   "execution_count": 54,
   "metadata": {
    "collapsed": false
   },
   "outputs": [
    {
     "name": "stdout",
     "output_type": "stream",
     "text": [
      "1000\r\n"
     ]
    }
   ],
   "source": [
    "!ls -l $valid_data_path/cats | grep cat | wc -l"
   ]
  },
  {
   "cell_type": "code",
   "execution_count": 55,
   "metadata": {
    "collapsed": false
   },
   "outputs": [
    {
     "name": "stdout",
     "output_type": "stream",
     "text": [
      "1000\r\n"
     ]
    }
   ],
   "source": [
    "!ls -l $valid_data_path/dogs | grep dog | wc -l"
   ]
  },
  {
   "cell_type": "markdown",
   "metadata": {},
   "source": [
    "#### Sample data"
   ]
  },
  {
   "cell_type": "code",
   "execution_count": 21,
   "metadata": {
    "collapsed": false
   },
   "outputs": [],
   "source": [
    "copy_data(list(sample_train_cats['name'].apply(train_path_builder)), sample_train_data_path+'/cats')\n",
    "copy_data(list(sample_train_dogs['name'].apply(train_path_builder)), sample_train_data_path+'/dogs')   \n",
    "copy_data(list(sample_valid_cats['name'].apply(train_path_builder)), sample_valid_data_path+'/cats')\n",
    "copy_data(list(sample_valid_dogs['name'].apply(train_path_builder)), sample_valid_data_path+'/dogs')  "
   ]
  },
  {
   "cell_type": "code",
   "execution_count": 22,
   "metadata": {
    "collapsed": false
   },
   "outputs": [
    {
     "name": "stdout",
     "output_type": "stream",
     "text": [
      "80\r\n"
     ]
    }
   ],
   "source": [
    "!ls -l $sample_train_data_path/cats | grep cat | wc -l"
   ]
  },
  {
   "cell_type": "code",
   "execution_count": 23,
   "metadata": {
    "collapsed": false
   },
   "outputs": [
    {
     "name": "stdout",
     "output_type": "stream",
     "text": [
      "80\r\n"
     ]
    }
   ],
   "source": [
    "!ls -l $sample_train_data_path/dogs | grep dog | wc -l"
   ]
  },
  {
   "cell_type": "code",
   "execution_count": 24,
   "metadata": {
    "collapsed": false
   },
   "outputs": [
    {
     "name": "stdout",
     "output_type": "stream",
     "text": [
      "20\r\n"
     ]
    }
   ],
   "source": [
    "!ls -l $sample_valid_data_path/cats | grep cat | wc -l"
   ]
  },
  {
   "cell_type": "code",
   "execution_count": 25,
   "metadata": {
    "collapsed": false
   },
   "outputs": [
    {
     "name": "stdout",
     "output_type": "stream",
     "text": [
      "20\r\n"
     ]
    }
   ],
   "source": [
    "!ls -l $sample_valid_data_path/dogs | grep dog | wc -l"
   ]
  },
  {
   "cell_type": "markdown",
   "metadata": {},
   "source": [
    "### Test Data\n",
    "Test data only needs to get copied... "
   ]
  },
  {
   "cell_type": "code",
   "execution_count": 29,
   "metadata": {
    "collapsed": false
   },
   "outputs": [],
   "source": [
    "!mkdir -p $clean_data_path/test\n",
    "!cp $raw_data_path/test/*.jpg $clean_data_path/test/."
   ]
  },
  {
   "cell_type": "code",
   "execution_count": 30,
   "metadata": {
    "collapsed": false
   },
   "outputs": [
    {
     "name": "stdout",
     "output_type": "stream",
     "text": [
      "12501\r\n"
     ]
    }
   ],
   "source": [
    "!ls -l $clean_data_path/test | wc -l"
   ]
  },
  {
   "cell_type": "markdown",
   "metadata": {},
   "source": [
    "### Sample submission"
   ]
  },
  {
   "cell_type": "code",
   "execution_count": 32,
   "metadata": {
    "collapsed": true
   },
   "outputs": [],
   "source": [
    "!cp $raw_data_path/sample_submission.csv $clean_data_path/sample_submission.csv "
   ]
  },
  {
   "cell_type": "markdown",
   "metadata": {},
   "source": [
    "### Cleanup\n",
    "Remove the raw data directory to reduce storage on EBS"
   ]
  },
  {
   "cell_type": "code",
   "execution_count": 33,
   "metadata": {
    "collapsed": false
   },
   "outputs": [
    {
     "name": "stdout",
     "output_type": "stream",
     "text": [
      "sample_submission.csv  test  test.zip  train  train.zip\r\n"
     ]
    }
   ],
   "source": [
    "!ls $raw_data_path"
   ]
  },
  {
   "cell_type": "code",
   "execution_count": 34,
   "metadata": {
    "collapsed": true
   },
   "outputs": [],
   "source": [
    "!rm -rf $raw_data_path"
   ]
  },
  {
   "cell_type": "code",
   "execution_count": 35,
   "metadata": {
    "collapsed": false
   },
   "outputs": [
    {
     "name": "stdout",
     "output_type": "stream",
     "text": [
      "ls: cannot access 'data/dogsNcats/raw': No such file or directory\r\n"
     ]
    }
   ],
   "source": [
    "!ls $raw_data_path"
   ]
  }
 ],
 "metadata": {
  "anaconda-cloud": {},
  "kernelspec": {
   "display_name": "Python [conda root]",
   "language": "python",
   "name": "conda-root-py"
  },
  "language_info": {
   "codemirror_mode": {
    "name": "ipython",
    "version": 2
   },
   "file_extension": ".py",
   "mimetype": "text/x-python",
   "name": "python",
   "nbconvert_exporter": "python",
   "pygments_lexer": "ipython2",
   "version": "2.7.12"
  }
 },
 "nbformat": 4,
 "nbformat_minor": 1
}
